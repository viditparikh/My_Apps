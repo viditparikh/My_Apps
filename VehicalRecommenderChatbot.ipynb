{
 "cells": [
  {
   "cell_type": "markdown",
   "metadata": {},
   "source": [
    "# Vehicle Recommender Interactive Agent \n",
    "\n",
    "\n",
    "### We are going to Build a Car Recommender Agent\n",
    "\n",
    "🎯 Core Features Implemented\n",
    "\n",
    "**Multi-Agent Architecture**\n",
    "\n",
    "- 4 Specialist Agents: Budget, Family, Luxury, Eco-friendly\n",
    "- 1 Manager Agent: Orchestrates and routes to specialists\n",
    "- 8 Function Tools: Direct inventory search capabilities\n",
    "\n",
    "\n",
    "\n",
    "**Synthetic Data System**\n",
    "- 6 Sample Vehicles: Diverse range (sedan, SUV, truck, electric, luxury)\n",
    "- 4 Customer Personas: Different use cases and priorities\n",
    "- Realistic Attributes: Price, MPG, safety, features, availability"
   ]
  },
  {
   "cell_type": "markdown",
   "metadata": {},
   "source": [
    "### Imports"
   ]
  },
  {
   "cell_type": "code",
   "execution_count": 82,
   "metadata": {},
   "outputs": [],
   "source": [
    "from dotenv import load_dotenv\n",
    "from agents import Agent, Runner, trace, function_tool\n",
    "from openai.types.responses import ResponseTextDeltaEvent\n",
    "import asyncio\n",
    "from agents import Agent, Runner, trace, function_tool, OpenAIChatCompletionsModel\n",
    "from typing import Dict, List, Optional\n",
    "import json\n",
    "import pandas as pd\n",
    "from datetime import datetime\n",
    "import os\n",
    "import nest_asyncio\n",
    "import asyncio\n",
    "from openai import AsyncOpenAI\n",
    "from pydantic import BaseModel\n",
    "\n"
   ]
  },
  {
   "cell_type": "code",
   "execution_count": 83,
   "metadata": {},
   "outputs": [],
   "source": [
    "nest_asyncio.apply()  # This MUST be called first!"
   ]
  },
  {
   "cell_type": "markdown",
   "metadata": {},
   "source": [
    " ### Jupyter  Notebook Compatibility  fix  for asyncio"
   ]
  },
  {
   "cell_type": "markdown",
   "metadata": {},
   "source": [
    "####  Load environment variables"
   ]
  },
  {
   "cell_type": "code",
   "execution_count": 84,
   "metadata": {},
   "outputs": [],
   "source": [
    "load_dotenv(override=True)\n",
    "google_api_key = os.getenv('GOOGLE_API_KEY')\n",
    "GEMINI_BASE_URL = \"https://generativelanguage.googleapis.com/v1beta/openai/\"\n",
    "gemini_client = AsyncOpenAI(base_url=GEMINI_BASE_URL, api_key=google_api_key)\n",
    "gemini_model = OpenAIChatCompletionsModel(model=\"gemini-2.0-flash\", openai_client=gemini_client)"
   ]
  },
  {
   "cell_type": "markdown",
   "metadata": {},
   "source": [
    "## Step 1: Synthetic Data Generation \n",
    "\n",
    "- Generate Synthetic Inventory \n",
    "- Generate Synthetic Persona "
   ]
  },
  {
   "cell_type": "code",
   "execution_count": 85,
   "metadata": {},
   "outputs": [],
   "source": [
    "def generate_synthetic_inventory():\n",
    "    \"\"\"Generate synthetic vehicle inventory data\"\"\"\n",
    "    inventory_data = [\n",
    "        {\n",
    "            \"id\": \"V001\",\n",
    "            \"make\": \"Toyota\",\n",
    "            \"model\": \"Camry\",\n",
    "            \"year\": 2024,\n",
    "            \"type\": \"Sedan\",\n",
    "            \"price\": 28000,\n",
    "            \"mpg_city\": 28,\n",
    "            \"mpg_highway\": 39,\n",
    "            \"seating_capacity\": 5,\n",
    "            \"safety_rating\": 5,\n",
    "            \"drivetrain\": \"FWD\",\n",
    "            \"fuel_type\": \"Gasoline\",\n",
    "            \"features\": [\"Backup Camera\", \"Bluetooth\", \"Lane Assist\", \"Adaptive Cruise Control\"],\n",
    "            \"colors_available\": [\"White\", \"Black\", \"Silver\", \"Red\"],\n",
    "            \"availability\": \"in_stock\",\n",
    "            \"stock_count\": 12,\n",
    "            \"category\": \"family\",\n",
    "            \"description\": \"Reliable family sedan with excellent fuel economy and safety features\"\n",
    "        },\n",
    "        {\n",
    "            \"id\": \"V002\", \n",
    "            \"make\": \"Honda\",\n",
    "            \"model\": \"CR-V\",\n",
    "            \"year\": 2024,\n",
    "            \"type\": \"SUV\",\n",
    "            \"price\": 32000,\n",
    "            \"mpg_city\": 27,\n",
    "            \"mpg_highway\": 32,\n",
    "            \"seating_capacity\": 5,\n",
    "            \"safety_rating\": 5,\n",
    "            \"drivetrain\": \"AWD\",\n",
    "            \"fuel_type\": \"Gasoline\",\n",
    "            \"features\": [\"All-Wheel Drive\", \"Cargo Space\", \"Apple CarPlay\", \"Blind Spot Monitor\"],\n",
    "            \"colors_available\": [\"Blue\", \"White\", \"Black\", \"Gray\"],\n",
    "            \"availability\": \"in_stock\",\n",
    "            \"stock_count\": 8,\n",
    "            \"category\": \"suv\",\n",
    "            \"description\": \"Versatile SUV perfect for families and outdoor adventures\"\n",
    "        },\n",
    "        {\n",
    "            \"id\": \"V003\",\n",
    "            \"make\": \"Tesla\",\n",
    "            \"model\": \"Model 3\",\n",
    "            \"year\": 2024,\n",
    "            \"type\": \"Electric Sedan\",\n",
    "            \"price\": 42000,\n",
    "            \"mpg_city\": 0,  # Electric\n",
    "            \"mpg_highway\": 0,  # Electric\n",
    "            \"range_miles\": 310,\n",
    "            \"seating_capacity\": 5,\n",
    "            \"safety_rating\": 5,\n",
    "            \"drivetrain\": \"RWD\",\n",
    "            \"fuel_type\": \"Electric\",\n",
    "            \"features\": [\"Autopilot\", \"Supercharger Network\", \"Over-the-air Updates\", \"Premium Audio\"],\n",
    "            \"colors_available\": [\"White\", \"Black\", \"Blue\", \"Red\"],\n",
    "            \"availability\": \"in_stock\",\n",
    "            \"stock_count\": 5,\n",
    "            \"category\": \"electric\",\n",
    "            \"description\": \"Cutting-edge electric sedan with advanced technology and sustainability\"\n",
    "        },\n",
    "        {\n",
    "            \"id\": \"V004\",\n",
    "            \"make\": \"Ford\",\n",
    "            \"model\": \"F-150\",\n",
    "            \"year\": 2024,\n",
    "            \"type\": \"Pickup Truck\",\n",
    "            \"price\": 38000,\n",
    "            \"mpg_city\": 20,\n",
    "            \"mpg_highway\": 26,\n",
    "            \"seating_capacity\": 6,\n",
    "            \"safety_rating\": 4,\n",
    "            \"drivetrain\": \"4WD\",\n",
    "            \"fuel_type\": \"Gasoline\",\n",
    "            \"features\": [\"Towing Capacity 13200lbs\", \"Bed Liner\", \"4WD\", \"Trailer Assist\"],\n",
    "            \"colors_available\": [\"White\", \"Black\", \"Blue\", \"Red\", \"Silver\"],\n",
    "            \"availability\": \"in_stock\",\n",
    "            \"stock_count\": 15,\n",
    "            \"category\": \"truck\",\n",
    "            \"description\": \"America's best-selling truck with unmatched capability and durability\"\n",
    "        },\n",
    "        {\n",
    "            \"id\": \"V005\",\n",
    "            \"make\": \"BMW\",\n",
    "            \"model\": \"X3\",\n",
    "            \"year\": 2024,\n",
    "            \"type\": \"Luxury SUV\",\n",
    "            \"price\": 48000,\n",
    "            \"mpg_city\": 23,\n",
    "            \"mpg_highway\": 29,\n",
    "            \"seating_capacity\": 5,\n",
    "            \"safety_rating\": 5,\n",
    "            \"drivetrain\": \"AWD\",\n",
    "            \"fuel_type\": \"Gasoline\",\n",
    "            \"features\": [\"Leather Seats\", \"Panoramic Sunroof\", \"Premium Audio\", \"Wireless Charging\"],\n",
    "            \"colors_available\": [\"White\", \"Black\", \"Gray\", \"Blue\"],\n",
    "            \"availability\": \"in_stock\",\n",
    "            \"stock_count\": 6,\n",
    "            \"category\": \"luxury\",\n",
    "            \"description\": \"Luxury SUV combining performance, comfort, and prestige\"\n",
    "        },\n",
    "        {\n",
    "            \"id\": \"V006\",\n",
    "            \"make\": \"Hyundai\",\n",
    "            \"model\": \"Elantra\",\n",
    "            \"year\": 2024,\n",
    "            \"type\": \"Compact Sedan\",\n",
    "            \"price\": 22000,\n",
    "            \"mpg_city\": 33,\n",
    "            \"mpg_highway\": 43,\n",
    "            \"seating_capacity\": 5,\n",
    "            \"safety_rating\": 4,\n",
    "            \"drivetrain\": \"FWD\",\n",
    "            \"fuel_type\": \"Gasoline\",\n",
    "            \"features\": [\"10-year Warranty\", \"Touchscreen\", \"Rear Camera\", \"Smart Key\"],\n",
    "            \"colors_available\": [\"White\", \"Black\", \"Silver\", \"Blue\"],\n",
    "            \"availability\": \"in_stock\",\n",
    "            \"stock_count\": 20,\n",
    "            \"category\": \"budget\",\n",
    "            \"description\": \"Affordable compact sedan with excellent warranty and fuel efficiency\"\n",
    "        }\n",
    "    ]\n",
    "    \n",
    "    # Save to JSON file\n",
    "    with open('data/synthetic_inventory.json', 'w') as f:\n",
    "        json.dump(inventory_data, f, indent=2)\n",
    "    \n",
    "    return inventory_data"
   ]
  },
  {
   "cell_type": "code",
   "execution_count": 86,
   "metadata": {},
   "outputs": [],
   "source": [
    "def generate_customer_personas():\n",
    "    \"\"\"Generate synthetic customer personas for testing\"\"\"\n",
    "    personas = [\n",
    "        {\n",
    "            \"name\": \"Young Professional\",\n",
    "            \"budget_max\": 30000,\n",
    "            \"family_size\": 1,\n",
    "            \"priorities\": [\"fuel_economy\", \"technology\", \"style\"],\n",
    "            \"usage\": \"daily_commute\",\n",
    "            \"preferences\": [\"compact\", \"sedan\"],\n",
    "            \"test_query\": \"I need a fuel-efficient car for my daily commute under $30k\"\n",
    "        },\n",
    "        {\n",
    "            \"name\": \"Growing Family\",\n",
    "            \"budget_max\": 40000,\n",
    "            \"family_size\": 4,\n",
    "            \"priorities\": [\"safety\", \"space\", \"reliability\"],\n",
    "            \"usage\": \"family_trips\",\n",
    "            \"preferences\": [\"suv\", \"minivan\"],\n",
    "            \"test_query\": \"I have two kids and need a safe, spacious vehicle for family trips\"\n",
    "        },\n",
    "        {\n",
    "            \"name\": \"Eco-Conscious\",\n",
    "            \"budget_max\": 50000,\n",
    "            \"family_size\": 2,\n",
    "            \"priorities\": [\"environmental\", \"technology\", \"efficiency\"],\n",
    "            \"usage\": \"mixed\",\n",
    "            \"preferences\": [\"electric\", \"hybrid\"],\n",
    "            \"test_query\": \"I want an environmentally friendly car with the latest technology\"\n",
    "        },\n",
    "        {\n",
    "            \"name\": \"Work Contractor\",\n",
    "            \"budget_max\": 45000,\n",
    "            \"family_size\": 1,\n",
    "            \"priorities\": [\"capability\", \"durability\", \"utility\"],\n",
    "            \"usage\": \"work_hauling\",\n",
    "            \"preferences\": [\"truck\", \"van\"],\n",
    "            \"test_query\": \"I need a truck for my construction business that can haul materials\"\n",
    "        }\n",
    "    ]\n",
    "    \n",
    "    with open('data/customer_personas.json', 'w') as f:\n",
    "        json.dump(personas, f, indent=2)\n",
    "    \n",
    "    return personas\n",
    "\n",
    "# ==================="
   ]
  },
  {
   "cell_type": "markdown",
   "metadata": {},
   "source": [
    "## Load Inventory data "
   ]
  },
  {
   "cell_type": "code",
   "execution_count": 87,
   "metadata": {},
   "outputs": [],
   "source": [
    "# Load inventory data\n",
    "inventory_df = None\n",
    "\n",
    "def load_inventory():\n",
    "    \"\"\"Load inventory data into pandas DataFrame\"\"\"\n",
    "    global inventory_df\n",
    "    try:\n",
    "        with open('data/synthetic_inventory.json', 'r') as f:\n",
    "            inventory_data = json.load(f)\n",
    "        inventory_df = pd.DataFrame(inventory_data)\n",
    "        return True\n",
    "    except FileNotFoundError:\n",
    "        # Generate synthetic data if file doesn't exist\n",
    "        inventory_data = generate_synthetic_inventory()\n",
    "        inventory_df = pd.DataFrame(inventory_data)\n",
    "        return True\n",
    "    except Exception as e:\n",
    "        print(f\"Error loading inventory: {e}\")\n",
    "        return False"
   ]
  },
  {
   "cell_type": "markdown",
   "metadata": {},
   "source": [
    "## Tool Definitions \n",
    "- Search vehicles by budget \n",
    "- Search vehicles by type \n",
    "- Search vehicle by features \n",
    "- Get vehicle by fuel efficient features \n",
    "- Get vehicle by safety ratings \n",
    "- Get vehicle by vehicle id \n",
    "- Check inventory availability\n"
   ]
  },
  {
   "cell_type": "code",
   "execution_count": 88,
   "metadata": {},
   "outputs": [],
   "source": [
    "@function_tool\n",
    "def search_vehicles_by_budget(max_budget: int, min_budget: int = 0) -> List[Dict]:\n",
    "    \"\"\"Search vehicles within specified budget range\"\"\"\n",
    "    if inventory_df is None:\n",
    "        load_inventory()\n",
    "    \n",
    "    filtered = inventory_df[\n",
    "        (inventory_df['price'] >= min_budget) & \n",
    "        (inventory_df['price'] <= max_budget) &\n",
    "        (inventory_df['availability'] == 'in_stock')\n",
    "    ]\n",
    "    \n",
    "    return filtered.to_dict('records')\n"
   ]
  },
  {
   "cell_type": "code",
   "execution_count": 89,
   "metadata": {},
   "outputs": [],
   "source": [
    "@function_tool\n",
    "def search_vehicles_by_type(vehicle_types: List[str]) -> List[Dict]:\n",
    "    \"\"\"Search vehicles by type (sedan, suv, truck, etc.)\"\"\"\n",
    "    if inventory_df is None:\n",
    "        load_inventory()\n",
    "    \n",
    "    # Convert to lowercase for matching\n",
    "    types_lower = [t.lower() for t in vehicle_types]\n",
    "    \n",
    "    filtered = inventory_df[\n",
    "        (inventory_df['type'].str.lower().isin(types_lower) | \n",
    "         inventory_df['category'].str.lower().isin(types_lower)) &\n",
    "        (inventory_df['availability'] == 'in_stock')\n",
    "    ]\n",
    "    \n",
    "    return filtered.to_dict('records')"
   ]
  },
  {
   "cell_type": "code",
   "execution_count": 90,
   "metadata": {},
   "outputs": [],
   "source": [
    "@function_tool\n",
    "def search_vehicles_by_features(required_features: List[str]) -> List[Dict]:\n",
    "    \"\"\"Search vehicles that have specific features\"\"\"\n",
    "    if inventory_df is None:\n",
    "        load_inventory()\n",
    "    \n",
    "    def has_features(vehicle_features, required):\n",
    "        vehicle_features_lower = [f.lower() for f in vehicle_features]\n",
    "        required_lower = [f.lower() for f in required]\n",
    "        return any(req in ' '.join(vehicle_features_lower) for req in required_lower)\n",
    "    \n",
    "    filtered = inventory_df[\n",
    "        inventory_df['features'].apply(lambda x: has_features(x, required_features)) &\n",
    "        (inventory_df['availability'] == 'in_stock')\n",
    "    ]\n",
    "    \n",
    "    return filtered.to_dict('records')"
   ]
  },
  {
   "cell_type": "code",
   "execution_count": 91,
   "metadata": {},
   "outputs": [],
   "source": [
    "@function_tool\n",
    "def get_fuel_efficient_vehicles(min_mpg: int = 30) -> List[Dict]:\n",
    "    \"\"\"Get vehicles with fuel efficiency above specified MPG\"\"\"\n",
    "    if inventory_df is None:\n",
    "        load_inventory()\n",
    "    \n",
    "    # For electric vehicles, consider them highly efficient\n",
    "    filtered = inventory_df[\n",
    "        (((inventory_df['mpg_city'] + inventory_df['mpg_highway']) / 2 >= min_mpg) |\n",
    "         (inventory_df['fuel_type'] == 'Electric')) &\n",
    "        (inventory_df['availability'] == 'in_stock')\n",
    "    ]\n",
    "    \n",
    "    return filtered.to_dict('records')"
   ]
  },
  {
   "cell_type": "code",
   "execution_count": 92,
   "metadata": {},
   "outputs": [],
   "source": [
    "@function_tool\n",
    "def get_vehicles_by_safety_rating(min_rating: int = 4) -> List[Dict]:\n",
    "    \"\"\"Get vehicles with minimum safety rating\"\"\"\n",
    "    if inventory_df is None:\n",
    "        load_inventory()\n",
    "    \n",
    "    filtered = inventory_df[\n",
    "        (inventory_df['safety_rating'] >= min_rating) &\n",
    "        (inventory_df['availability'] == 'in_stock')\n",
    "    ]\n",
    "    \n",
    "    return filtered.to_dict('records')"
   ]
  },
  {
   "cell_type": "code",
   "execution_count": 93,
   "metadata": {},
   "outputs": [],
   "source": [
    "@function_tool\n",
    "def get_vehicle_details(vehicle_id: str) -> Dict:\n",
    "    \"\"\"Get detailed information about a specific vehicle\"\"\"\n",
    "    if inventory_df is None:\n",
    "        load_inventory()\n",
    "    \n",
    "    vehicle = inventory_df[inventory_df['id'] == vehicle_id]\n",
    "    if not vehicle.empty:\n",
    "        return vehicle.iloc[0].to_dict()\n",
    "    return {\"error\": \"Vehicle not found\"}"
   ]
  },
  {
   "cell_type": "code",
   "execution_count": 94,
   "metadata": {},
   "outputs": [],
   "source": [
    "@function_tool\n",
    "def compare_vehicles(vehicle_ids: List[str]) -> Dict:\n",
    "    \"\"\"Compare multiple vehicles side by side\"\"\"\n",
    "    if inventory_df is None:\n",
    "        load_inventory()\n",
    "    \n",
    "    vehicles = inventory_df[inventory_df['id'].isin(vehicle_ids)]\n",
    "    comparison = {\n",
    "        \"vehicles\": vehicles.to_dict('records'),\n",
    "        \"comparison_summary\": {\n",
    "            \"price_range\": f\"${vehicles['price'].min():,} - ${vehicles['price'].max():,}\",\n",
    "            \"best_mpg\": vehicles.loc[vehicles['mpg_city'].idxmax(), 'model'] if not vehicles.empty else \"N/A\",\n",
    "            \"highest_safety\": vehicles.loc[vehicles['safety_rating'].idxmax(), 'model'] if not vehicles.empty else \"N/A\"\n",
    "        }\n",
    "    }\n",
    "    return comparison"
   ]
  },
  {
   "cell_type": "code",
   "execution_count": 95,
   "metadata": {},
   "outputs": [],
   "source": [
    "@function_tool\n",
    "def check_inventory_availability(vehicle_id: str) -> Dict:\n",
    "    \"\"\"Check real-time availability and stock count for a vehicle\"\"\"\n",
    "    if inventory_df is None:\n",
    "        load_inventory()\n",
    "    \n",
    "    vehicle = inventory_df[inventory_df['id'] == vehicle_id]\n",
    "    if not vehicle.empty:\n",
    "        return {\n",
    "            \"vehicle_id\": vehicle_id,\n",
    "            \"availability\": vehicle.iloc[0]['availability'],\n",
    "            \"stock_count\": vehicle.iloc[0]['stock_count'],\n",
    "            \"estimated_delivery\": \"2-3 weeks\" if vehicle.iloc[0]['stock_count'] > 0 else \"6-8 weeks\"\n",
    "        }\n",
    "    return {\"error\": \"Vehicle not found\"}"
   ]
  },
  {
   "cell_type": "markdown",
   "metadata": {},
   "source": [
    "## Create Agents \n",
    "\n",
    "\n",
    "####  Prepare Tools List "
   ]
  },
  {
   "cell_type": "code",
   "execution_count": 96,
   "metadata": {},
   "outputs": [],
   "source": [
    "# Tools list for agents\n",
    "vehicle_tools = [\n",
    "    search_vehicles_by_budget,\n",
    "    search_vehicles_by_type, \n",
    "    search_vehicles_by_features,\n",
    "    get_fuel_efficient_vehicles,\n",
    "    get_vehicles_by_safety_rating,\n",
    "    get_vehicle_details,\n",
    "    compare_vehicles,\n",
    "    check_inventory_availability\n",
    "]"
   ]
  },
  {
   "cell_type": "markdown",
   "metadata": {},
   "source": [
    "### Create Budget Vehicles Focussed Agent "
   ]
  },
  {
   "cell_type": "code",
   "execution_count": 97,
   "metadata": {},
   "outputs": [],
   "source": [
    "# Budget-focused agent\n",
    "budget_specialist = Agent(\n",
    "    name=\"Budget Vehicle Specialist\",\n",
    "    instructions=\"\"\"You are a budget-conscious vehicle specialist who helps customers find the best value vehicles within their price range. \n",
    "    \n",
    "    You excel at:\n",
    "    - Finding vehicles that maximize value for money\n",
    "    - Identifying cost-effective options with good reliability\n",
    "    - Explaining total cost of ownership\n",
    "    - Highlighting vehicles with good resale value\n",
    "    \n",
    "    Always use the search tools to find current inventory and provide specific vehicle recommendations with pricing details.\"\"\",\n",
    "    tools=vehicle_tools,\n",
    "    model=gemini_model\n",
    ")"
   ]
  },
  {
   "cell_type": "markdown",
   "metadata": {},
   "source": [
    "### Family Focused Agent "
   ]
  },
  {
   "cell_type": "code",
   "execution_count": 98,
   "metadata": {},
   "outputs": [],
   "source": [
    "\n",
    "# Family-focused agent  \n",
    "family_specialist = Agent(\n",
    "    name=\"Family Vehicle Specialist\", \n",
    "    instructions=\"\"\"You are a family vehicle specialist who prioritizes safety, space, and practicality for families.\n",
    "    \n",
    "    You excel at:\n",
    "    - Recommending vehicles based on family size and needs\n",
    "    - Prioritizing safety ratings and family-friendly features\n",
    "    - Considering cargo space, seating capacity, and convenience features\n",
    "    - Understanding child safety requirements and accessibility\n",
    "    \n",
    "    Always use search tools to find vehicles that meet family requirements and emphasize safety ratings and practical features.\"\"\",\n",
    "    tools=vehicle_tools,\n",
    "    model=gemini_model\n",
    ")"
   ]
  },
  {
   "cell_type": "markdown",
   "metadata": {},
   "source": [
    "### Luxury Vehicle Agent "
   ]
  },
  {
   "cell_type": "code",
   "execution_count": 99,
   "metadata": {},
   "outputs": [],
   "source": [
    "# Performance/Luxury specialist\n",
    "luxury_specialist = Agent(\n",
    "    name=\"Luxury & Performance Specialist\",\n",
    "    instructions=\"\"\"You are a luxury and performance vehicle specialist who focuses on premium features, advanced technology, and driving experience.\n",
    "    \n",
    "    You excel at:\n",
    "    - Recommending vehicles with premium features and materials\n",
    "    - Understanding performance specifications and driving dynamics  \n",
    "    - Highlighting advanced technology and luxury amenities\n",
    "    - Explaining the value proposition of premium vehicles\n",
    "    \n",
    "    Use search tools to find vehicles with luxury features and provide detailed explanations of premium benefits.\"\"\",\n",
    "    tools=vehicle_tools,\n",
    "    model=gemini_model\n",
    ")"
   ]
  },
  {
   "cell_type": "markdown",
   "metadata": {},
   "source": [
    "### Eco friendly vehicle specialist Agent "
   ]
  },
  {
   "cell_type": "code",
   "execution_count": 100,
   "metadata": {},
   "outputs": [],
   "source": [
    "# Eco-friendly specialist\n",
    "eco_specialist = Agent(\n",
    "    name=\"Eco-Friendly Vehicle Specialist\",\n",
    "    instructions=\"\"\"You are an eco-friendly vehicle specialist focused on environmental impact, fuel efficiency, and sustainable transportation.\n",
    "    \n",
    "    You excel at:\n",
    "    - Recommending electric, hybrid, and high-efficiency vehicles\n",
    "    - Explaining environmental benefits and cost savings\n",
    "    - Understanding charging infrastructure and range considerations\n",
    "    - Calculating long-term fuel/energy cost savings\n",
    "    \n",
    "    Always prioritize vehicles with the best environmental credentials and use tools to find the most efficient options.\"\"\",\n",
    "    tools=vehicle_tools,\n",
    "    model=gemini_model\n",
    ")"
   ]
  },
  {
   "cell_type": "markdown",
   "metadata": {},
   "source": [
    "### Convert specialist agents to tools \n"
   ]
  },
  {
   "cell_type": "code",
   "execution_count": 101,
   "metadata": {},
   "outputs": [],
   "source": [
    "# Convert specialist agents to tools\n",
    "budget_tool = budget_specialist.as_tool(\n",
    "    tool_name=\"budget_specialist\",\n",
    "    tool_description=\"Get budget-focused vehicle recommendations and value analysis\"\n",
    ")\n",
    "\n",
    "family_tool = family_specialist.as_tool(\n",
    "    tool_name=\"family_specialist\", \n",
    "    tool_description=\"Get family-oriented vehicle recommendations focusing on safety and practicality\"\n",
    ")\n",
    "\n",
    "luxury_tool = luxury_specialist.as_tool(\n",
    "    tool_name=\"luxury_specialist\",\n",
    "    tool_description=\"Get luxury and performance vehicle recommendations\"\n",
    ")\n",
    "\n",
    "eco_tool = eco_specialist.as_tool(\n",
    "    tool_name=\"eco_specialist\",\n",
    "    tool_description=\"Get eco-friendly and fuel-efficient vehicle recommendations\"\n",
    ")"
   ]
  },
  {
   "cell_type": "markdown",
   "metadata": {},
   "source": [
    "### Main Orchestrating Agent "
   ]
  },
  {
   "cell_type": "code",
   "execution_count": 102,
   "metadata": {},
   "outputs": [],
   "source": [
    "# Main orchestrating agent\n",
    "vehicle_recommendation_agent = Agent(\n",
    "    name=\"Vehicle Recommendation Manager\",\n",
    "    instructions=\"\"\"You are the main vehicle recommendation manager who helps customers find their perfect vehicle.\n",
    "\n",
    "    Your process:\n",
    "    1. Understand the customer's needs, budget, and priorities\n",
    "    2. Determine which specialist agent(s) would be most helpful\n",
    "    3. Use appropriate specialist tools to get recommendations\n",
    "    4. Use direct search tools when needed for specific queries\n",
    "    5. Synthesize recommendations from multiple sources\n",
    "    6. Provide clear, actionable advice with specific vehicle suggestions\n",
    "\n",
    "    Customer Priority Categories:\n",
    "    - Budget-conscious → Use budget_specialist\n",
    "    - Family needs → Use family_specialist  \n",
    "    - Luxury/performance → Use luxury_specialist\n",
    "    - Environmental/efficiency → Use eco_specialist\n",
    "\n",
    "    Always provide:\n",
    "    - At least 2-3 specific vehicle recommendations\n",
    "    - Clear reasoning for each recommendation\n",
    "    - Price information and key features\n",
    "    - Next steps for the customer\n",
    "\n",
    "    Be conversational, helpful, and thorough in your recommendations.\"\"\",\n",
    "    tools=vehicle_tools + [budget_tool, family_tool, luxury_tool, eco_tool],\n",
    "    model=gemini_model\n",
    ")\n"
   ]
  },
  {
   "cell_type": "markdown",
   "metadata": {},
   "source": [
    "### Define Testing  code for  Recommender Agent \n",
    "\n",
    "\n",
    "Here we develop a test framework with some pre loaded queries to test the Vehicle Recommendation  Agent "
   ]
  },
  {
   "cell_type": "code",
   "execution_count": 103,
   "metadata": {},
   "outputs": [],
   "source": [
    "async def test_multiple_queries_async():\n",
    "    \"\"\"Test multiple queries asynchronously\"\"\"\n",
    "    \n",
    "    if not load_inventory():\n",
    "        generate_synthetic_inventory()\n",
    "        load_inventory()\n",
    "    \n",
    "    test_queries = [\n",
    "        \"I need a reliable family car under $30k\",\n",
    "        \"Show me luxury SUVs with advanced technology\",\n",
    "        \"What's the most fuel-efficient vehicle you have?\",\n",
    "        \"I need a truck for my construction business\"\n",
    "    ]\n",
    "    \n",
    "    print(\"=== TESTING MULTIPLE QUERIES ===\\\\n\")\n",
    "    \n",
    "    for i, query in enumerate(test_queries, 1):\n",
    "        print(f\"Test {i}: {query}\")\n",
    "        print(\"-\" * 50)\n",
    "        \n",
    "        try:\n",
    "            with trace(f\"Test Query {i}\"):\n",
    "                result = await Runner.run(vehicle_recommendation_agent, query)\n",
    "                print(f\"Response: {result.final_output}\\\\n\")\n",
    "        except Exception as e:\n",
    "            print(f\"Error: {e}\\\\n\")\n",
    "        \n",
    "        print(\"=\" * 80 + \"\\\\n\")\n",
    "\n"
   ]
  },
  {
   "cell_type": "code",
   "execution_count": 104,
   "metadata": {},
   "outputs": [],
   "source": [
    "async def test_vehicle_agent():\n",
    "    \"\"\"Test the vehicle recommendation agent with sample queries\"\"\"\n",
    "    \n",
    "    # Ensure data is loaded\n",
    "    load_inventory()\n",
    "    generate_customer_personas()\n",
    "    \n",
    "    test_queries = [\n",
    "        \"I need a reliable family car with good fuel economy under $30k\",\n",
    "        \"Looking for a luxury SUV with latest technology features\",\n",
    "        \"What's the most environmentally friendly vehicle you have?\",\n",
    "        \"I need a truck for my construction business that can haul materials\",\n",
    "        \"Show me your most affordable cars with good safety ratings\"\n",
    "    ]\n",
    "    \n",
    "    print(\"=== TESTING VEHICLE RECOMMENDATION AGENT ===\\n\")\n",
    "    \n",
    "    for i, query in enumerate(test_queries, 1):\n",
    "        print(f\"Test {i}: {query}\")\n",
    "        print(\"-\" * 50)\n",
    "        \n",
    "        with trace(f\"Vehicle Recommendation Test {i}\"):\n",
    "            result = await Runner.run(vehicle_recommendation_agent, query)\n",
    "            print(result.final_output)\n",
    "        \n",
    "        print(\"\\n\" + \"=\"*80 + \"\\n\")"
   ]
  },
  {
   "cell_type": "markdown",
   "metadata": {},
   "source": [
    "### Define Test code framework for individual specialist Agents \n"
   ]
  },
  {
   "cell_type": "code",
   "execution_count": 105,
   "metadata": {},
   "outputs": [],
   "source": [
    "async def demo_specialist_agents():\n",
    "    \"\"\"Demo individual specialist agents\"\"\"\n",
    "    \n",
    "    load_inventory()\n",
    "    \n",
    "    print(\"=== TESTING SPECIALIST AGENTS ===\\n\")\n",
    "    \n",
    "    # Test budget specialist\n",
    "    print(\"1. BUDGET SPECIALIST TEST\")\n",
    "    print(\"-\" * 30)\n",
    "    budget_query = \"Find me the best value car under $25,000\"\n",
    "    \n",
    "    with trace(\"Budget Specialist Demo\"):\n",
    "        result = await Runner.run(budget_specialist, budget_query)\n",
    "        print(f\"Query: {budget_query}\")\n",
    "        print(f\"Response: {result.final_output}\")\n",
    "    \n",
    "    print(\"\\n\" + \"=\"*50 + \"\\n\")\n",
    "    \n",
    "    # Test family specialist  \n",
    "    print(\"2. FAMILY SPECIALIST TEST\")\n",
    "    print(\"-\" * 30)\n",
    "    family_query = \"I have 3 kids and need a safe vehicle for school runs\"\n",
    "    \n",
    "    with trace(\"Family Specialist Demo\"):\n",
    "        result = await Runner.run(family_specialist, family_query)\n",
    "        print(f\"Query: {family_query}\")\n",
    "        print(f\"Response: {result.final_output}\")\n",
    "    \n",
    "    print(\"\\n\" + \"=\"*50 + \"\\n\")"
   ]
  },
  {
   "cell_type": "markdown",
   "metadata": {},
   "source": [
    "### Define code for running interactive demo of the Vehicle Reccomendation System \n"
   ]
  },
  {
   "cell_type": "code",
   "execution_count": 106,
   "metadata": {},
   "outputs": [],
   "source": [
    "async def run_interactive_demo_async():\n",
    "    \"\"\"Working interactive demo for Jupyter\"\"\"\n",
    "    \n",
    "    print(\"=== INTERACTIVE VEHICLE RECOMMENDATION DEMO ===\")\n",
    "    print(\"Ask me about vehicles! (type 'quit' to exit)\\n\")\n",
    "    \n",
    "    if not load_inventory():\n",
    "        generate_synthetic_inventory()\n",
    "        load_inventory()\n",
    "    \n",
    "    print(f\"Inventory loaded: {len(inventory_df)} vehicles available\\n\")\n",
    "    \n",
    "    while True:\n",
    "        user_input = input(\"You: \").strip()\n",
    "        \n",
    "        if user_input.lower() in ['quit', 'exit', 'stop']:\n",
    "            print(\"Thanks for using the Vehicle Recommendation System!\")\n",
    "            break\n",
    "            \n",
    "        if not user_input:\n",
    "            continue\n",
    "            \n",
    "        print(\"\\nAgent: Thinking...\")\n",
    "        \n",
    "        try:\n",
    "            result = await Runner.run(vehicle_recommendation_agent, user_input)\n",
    "            print(f\"Agent: {result.final_output}\\n\")\n",
    "            \n",
    "        except Exception as e:\n",
    "            print(f\"Error: {e}\\n\")"
   ]
  },
  {
   "cell_type": "markdown",
   "metadata": {},
   "source": [
    "### Main Driver Code "
   ]
  },
  {
   "cell_type": "code",
   "execution_count": 107,
   "metadata": {},
   "outputs": [],
   "source": [
    "# Create Directry if does not exist  \n",
    "os.makedirs('data', exist_ok=True)\n"
   ]
  },
  {
   "cell_type": "markdown",
   "metadata": {},
   "source": [
    "### Display Menu options "
   ]
  },
  {
   "cell_type": "code",
   "execution_count": 47,
   "metadata": {},
   "outputs": [
    {
     "name": "stdout",
     "output_type": "stream",
     "text": [
      "Vehicle Recommendation Agent System\n",
      "========================================\n",
      "1. Testing individual components\n",
      "2. Running full system tests\n",
      "3. Interactive demo\n",
      "\n"
     ]
    }
   ],
   "source": [
    "print(\"Vehicle Recommendation Agent System\")\n",
    "print(\"=\" * 40)\n",
    "print(\"1. Testing individual components\")\n",
    "print(\"2. Running full system tests\") \n",
    "print(\"3. Interactive demo\")\n",
    "print()"
   ]
  },
  {
   "cell_type": "markdown",
   "metadata": {},
   "source": [
    "### Quick Test "
   ]
  },
  {
   "cell_type": "code",
   "execution_count": 108,
   "metadata": {},
   "outputs": [
    {
     "name": "stdout",
     "output_type": "stream",
     "text": [
      "Okay, based on the initial search, a Honda CR-V (V002) looks like a good option.\n",
      "\n",
      "**Honda CR-V (V002)**\n",
      "\n",
      "*   **Price:** $32,000\n",
      "*   **Key Features:** 5-star safety rating, All-Wheel Drive, ample cargo space, Apple CarPlay, Blind Spot Monitor\n",
      "\n",
      "I still recommend answering the questions I asked earlier so I can provide a more tailored recommendation!\n",
      "\n"
     ]
    }
   ],
   "source": [
    "# Quick test - just run this cell\n",
    "async def quick_test():\n",
    "    load_inventory()\n",
    "    result = await Runner.run(vehicle_recommendation_agent, \"I need a family SUV under $35k\")\n",
    "    print(result.final_output)\n",
    "\n",
    "await quick_test()"
   ]
  },
  {
   "cell_type": "markdown",
   "metadata": {},
   "source": [
    "### Test Multiple Queries "
   ]
  },
  {
   "cell_type": "code",
   "execution_count": 109,
   "metadata": {},
   "outputs": [
    {
     "name": "stdout",
     "output_type": "stream",
     "text": [
      "=== TESTING MULTIPLE QUERIES ===\\n\n",
      "Test 1: I need a reliable family car under $30k\n",
      "--------------------------------------------------\n",
      "Response: Okay, I've got a couple of recommendations for you, keeping in mind your need for a reliable family car under $30k:\n",
      "\n",
      "**1. Toyota Camry (around $28,000):**\n",
      "\n",
      "*   **Reasoning:** The Toyota Camry is known for its reliability, excellent safety ratings, and good fuel economy. It comfortably seats 5 and comes standard with features like a backup camera, lane assist, and adaptive cruise control, which are great for family safety and convenience.\n",
      "*   **Key Features:** 5-star safety rating, good MPG (28 city/39 highway), and essential safety features.\n",
      "\n",
      "**2. Hyundai Elantra (around $22,000):**\n",
      "\n",
      "*   **Reasoning:** The Hyundai Elantra is a more budget-friendly option that still offers a lot of value. It's fuel-efficient, comes with a fantastic 10-year warranty, and has features like a touchscreen and rear camera.\n",
      "*   **Key Features:** Excellent warranty, good MPG (33 city/43 highway), and a lower price point.\n",
      "\n",
      "**Next Steps:**\n",
      "\n",
      "1.  **Check Availability:** If either of these options interests you, I can check their current availability and stock count.\n",
      "2.  **Test Drive:** I highly recommend scheduling a test drive to see how the car feels and if it meets your family's needs.\n",
      "3.  **Explore Further:** Let me know if you have specific needs (e.g., more cargo space, specific safety tech), and I can refine the search.\n",
      "\\n\n",
      "================================================================================\\n\n",
      "Test 2: Show me luxury SUVs with advanced technology\n",
      "--------------------------------------------------\n",
      "Response: OK. I found one SUV, the Honda CR-V (ID: V002) that has luxury and advanced technology features such as Apple CarPlay and Blind Spot Monitor. Would you like to explore more options?\n",
      "\\n\n",
      "================================================================================\\n\n",
      "Test 3: What's the most fuel-efficient vehicle you have?\n",
      "--------------------------------------------------\n",
      "Response: OK. The Tesla Model 3 is a great choice. It's an electric sedan with a range of 310 miles, priced at $42,000. It has a 5-star safety rating and features like Autopilot and access to the Supercharger Network.\n",
      "\n",
      "To give you the best recommendation, I need a little more information.\n",
      "\n",
      "1.  **What is your budget?** This will help me narrow down the options.\n",
      "2.  **What are your priorities?** (e.g., fuel efficiency, family needs, luxury, performance)\n",
      "\\n\n",
      "================================================================================\\n\n",
      "Test 4: I need a truck for my construction business\n",
      "--------------------------------------------------\n",
      "Response: Okay, I can help you find a truck for your construction business. To give you the best recommendations, I need a little more information.\n",
      "\n",
      "1.  What's your budget for the truck?\n",
      "2.  What kind of features are most important to you (e.g., towing capacity, bed size, 4x4, specific technology)?\n",
      "3.  Do you have any preferences on new vs. used?\n",
      "\\n\n",
      "================================================================================\\n\n"
     ]
    }
   ],
   "source": [
    "await test_multiple_queries_async()"
   ]
  },
  {
   "cell_type": "markdown",
   "metadata": {},
   "source": [
    "### Test Specialist Agents "
   ]
  },
  {
   "cell_type": "code",
   "execution_count": 110,
   "metadata": {},
   "outputs": [],
   "source": [
    "async def test_specialist_agents_async():\n",
    "    \"\"\"Test individual specialist agents\"\"\"\n",
    "    \n",
    "    if not load_inventory():\n",
    "        generate_synthetic_inventory()\n",
    "        load_inventory()\n",
    "    \n",
    "    print(\"=== TESTING SPECIALIST AGENTS ===\\\\n\")\n",
    "    \n",
    "    agents_and_queries = [\n",
    "        (budget_specialist, \"Find me the best value car under $25,000\"),\n",
    "        (family_specialist, \"I have 3 kids and need a safe vehicle\"),\n",
    "        (luxury_specialist, \"Show me your most premium vehicles\"),\n",
    "        (eco_specialist, \"What's your most environmentally friendly option?\")\n",
    "    ]\n",
    "    \n",
    "    for agent, query in agents_and_queries:\n",
    "        print(f\"Testing {agent.name}\")\n",
    "        print(f\"Query: {query}\")\n",
    "        print(\"-\" * 40)\n",
    "        \n",
    "        try:\n",
    "            result = await Runner.run(agent, query)\n",
    "            print(f\"Response: {result.final_output[:300]}...\")\n",
    "        except Exception as e:\n",
    "            print(f\"Error: {e}\")\n",
    "        \n",
    "        print(\"\\\\n\")"
   ]
  },
  {
   "cell_type": "code",
   "execution_count": 111,
   "metadata": {},
   "outputs": [
    {
     "name": "stdout",
     "output_type": "stream",
     "text": [
      "=== TESTING SPECIALIST AGENTS ===\\n\n",
      "Testing Budget Vehicle Specialist\n",
      "Query: Find me the best value car under $25,000\n",
      "----------------------------------------\n",
      "Response: OK. I found one vehicle that fits your criteria: The 2024 Hyundai Elantra, a compact sedan priced at $22,000. It gets 33 city / 43 highway MPG, seats 5, has a 4-star safety rating, and comes with a 10-year warranty. It also has a touchscreen, rear camera, and smart key.\n",
      "...\n",
      "\\n\n",
      "Testing Family Vehicle Specialist\n",
      "Query: I have 3 kids and need a safe vehicle\n",
      "----------------------------------------\n",
      "Response: Okay, to recommend the best and safest vehicle for your family, I need a little more information.\n",
      "\n",
      "1.  What is your budget for the vehicle?\n",
      "2.  What type of vehicle are you interested in? (e.g., SUV, minivan, sedan, truck)\n",
      "3.  Are there any specific features that are important to you? (e.g., third-r...\n",
      "\\n\n",
      "Testing Luxury & Performance Specialist\n",
      "Query: Show me your most premium vehicles\n",
      "----------------------------------------\n",
      "Response: Sorry, I need some more information to fulfill this request. What is your budget, or what type of vehicle are you looking for?\n",
      "...\n",
      "\\n\n",
      "Testing Eco-Friendly Vehicle Specialist\n",
      "Query: What's your most environmentally friendly option?\n",
      "----------------------------------------\n",
      "Response: To recommend the most environmentally friendly option, I need a bit more information.  Could you tell me:\n",
      "\n",
      "1.  What type of vehicle are you interested in (e.g., sedan, SUV, truck)?\n",
      "2.  What is your budget?\n",
      "3.  Are there any specific features you need?\n",
      "\n",
      "Once I have this information, I can use the ava...\n",
      "\\n\n"
     ]
    }
   ],
   "source": [
    "await test_specialist_agents_async()"
   ]
  },
  {
   "cell_type": "markdown",
   "metadata": {},
   "source": [
    "### Complete System  Test "
   ]
  },
  {
   "cell_type": "code",
   "execution_count": 112,
   "metadata": {},
   "outputs": [],
   "source": [
    "\n",
    "async def complete_system_test():\n",
    "    \"\"\"Test tools through the agent instead of directly\"\"\"\n",
    "    \n",
    "    print(\"Testing Tools Through Agent\")\n",
    "    print(\"-\" * 30)\n",
    "    \n",
    "    # Load inventory\n",
    "    load_inventory()\n",
    "    print(f\"Inventory loaded: {len(inventory_df)} vehicles\")\n",
    "    \n",
    "    # Test tools by asking the agent to use them\n",
    "    test_queries = [\n",
    "        \"Show me cars between $20k and $30k\",  # Tests budget search tool\n",
    "        \"What SUVs do you have?\",              # Tests type search tool\n",
    "        \"Show me cars with high safety ratings\" # Tests safety search tool\n",
    "    ]\n",
    "    \n",
    "    for i, query in enumerate(test_queries, 1):\n",
    "        print(f\"\\\\n{i}. Testing: '{query}'\")\n",
    "        try:\n",
    "            result = await Runner.run(vehicle_recommendation_agent, query)\n",
    "            print(f\"Success: {result.final_output[:100]}...\")\n",
    "        except Exception as e:\n",
    "            print(f\"Failed: {e}\")"
   ]
  },
  {
   "cell_type": "code",
   "execution_count": 113,
   "metadata": {},
   "outputs": [
    {
     "name": "stdout",
     "output_type": "stream",
     "text": [
      "Testing Tools Through Agent\n",
      "------------------------------\n",
      "Inventory loaded: 6 vehicles\n",
      "\\n1. Testing: 'Show me cars between $20k and $30k'\n",
      "Success: Okay, I found two vehicles that fit your budget:\n",
      "\n",
      "1.  **Toyota Camry (2024)**\n",
      "    *   **Price:** $28...\n",
      "\\n2. Testing: 'What SUVs do you have?'\n",
      "Success: OK, I found one SUV: the 2024 Honda CR-V. It's priced at $32,000, gets 27 MPG in the city and 32 MPG...\n",
      "\\n3. Testing: 'Show me cars with high safety ratings'\n",
      "Success: What is the minimum safety rating you are looking for?\n",
      "...\n"
     ]
    }
   ],
   "source": [
    "await complete_system_test()"
   ]
  },
  {
   "cell_type": "markdown",
   "metadata": {},
   "source": [
    "### test Interactive Demo "
   ]
  },
  {
   "cell_type": "code",
   "execution_count": null,
   "metadata": {},
   "outputs": [
    {
     "name": "stdout",
     "output_type": "stream",
     "text": [
      "=== INTERACTIVE VEHICLE RECOMMENDATION DEMO ===\n",
      "Ask me about vehicles! (type 'quit' to exit)\n",
      "\n",
      "Inventory loaded: 6 vehicles available\n",
      "\n"
     ]
    }
   ],
   "source": [
    "await run_interactive_demo_async()"
   ]
  },
  {
   "cell_type": "markdown",
   "metadata": {},
   "source": [
    "### End of Notebook"
   ]
  }
 ],
 "metadata": {
  "kernelspec": {
   "display_name": ".venv",
   "language": "python",
   "name": "python3"
  },
  "language_info": {
   "codemirror_mode": {
    "name": "ipython",
    "version": 3
   },
   "file_extension": ".py",
   "mimetype": "text/x-python",
   "name": "python",
   "nbconvert_exporter": "python",
   "pygments_lexer": "ipython3",
   "version": "3.12.3"
  }
 },
 "nbformat": 4,
 "nbformat_minor": 2
}
